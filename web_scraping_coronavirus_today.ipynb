{
 "cells": [
  {
   "cell_type": "markdown",
   "metadata": {},
   "source": [
    "# Explicación\n",
    "\n",
    "El objetivo es extraer información un web scraping que almacena información acerca del comportamiento del covid en el día de hoy, para poder resolver a ciertas consultas. Por ejemplo:\n",
    " - Países con mayor y menor cantidad de muertes a la fecha\n",
    " - Paises con mayor y menor casos detectados a la fecha\n",
    " - Países con mayor y menor uso de pruebas de descarte\n",
    " "
   ]
  },
  {
   "cell_type": "markdown",
   "metadata": {},
   "source": [
    "# Código"
   ]
  },
  {
   "cell_type": "code",
   "execution_count": 1,
   "metadata": {
    "id": "EQ83Vlc-i-Z_"
   },
   "outputs": [],
   "source": [
    "from bs4 import BeautifulSoup\n",
    "import requests\n",
    "import pandas as pd\n",
    "import matplotlib.pyplot as plt\n",
    "from wordcloud import WordCloud, STOPWORDS\n",
    "from datetime import date, timedelta"
   ]
  },
  {
   "cell_type": "code",
   "execution_count": 2,
   "metadata": {},
   "outputs": [],
   "source": [
    "def extraer_info_pais(lista_tr):\n",
    "    # Iterar cada uno los <tr> que son datos de cada uno los países para obtener la información de cada uno de ellos\n",
    "    # Toda la información del país será guardada en una lista y esta lista será almacenada en otra lista de paises\n",
    "    list_datos_pais = []\n",
    "    for tr_html in lista_tr:\n",
    "        # Obtener nombre del pais\n",
    "        str_nombre_pais =  tr_html.find_all('td')\n",
    "        str_nombre_pais = str_nombre_pais[1].text\n",
    "        str_nombre_pais = str_nombre_pais.strip()\n",
    "        \n",
    "        # Obtener valor total casos\n",
    "        str_n_total_casos = tr_html.find_all('td')\n",
    "        str_n_total_casos = str_n_total_casos[2]\n",
    "        str_n_total_casos = str_n_total_casos.text\n",
    "        str_n_total_casos = str_n_total_casos.strip()\n",
    "        #str_n_total_casos = str_n_total_casos.replace(',', '')\n",
    "        \n",
    "        # Obtener valor Nuevos Casos\n",
    "        str_n_nuevos_casos = tr_html.find_all('td')\n",
    "        str_n_nuevos_casos = str_n_nuevos_casos[3]\n",
    "        str_n_nuevos_casos = str_n_nuevos_casos.text\n",
    "        str_n_nuevos_casos = str_n_nuevos_casos.strip()\n",
    "        #str_n_nuevos_casos = str_n_nuevos_casos.replace(',', '')\n",
    "        \n",
    "        # Obtener valor Total Muertes\n",
    "        str_n_total_muertes = tr_html.find_all('td')\n",
    "        str_n_total_muertes = str_n_total_muertes[4]\n",
    "        str_n_total_muertes = str_n_total_muertes.text\n",
    "        str_n_total_muertes = str_n_total_muertes.strip()\n",
    "        #str_n_total_muertes = str_n_total_muertes.replace(',', '')\n",
    "        \n",
    "        # Obtener valor Nuevas Muertes\n",
    "        str_n_nuevas_muertes = tr_html.find_all('td')\n",
    "        str_n_nuevas_muertes = str_n_nuevas_muertes[5]\n",
    "        str_n_nuevas_muertes = str_n_nuevas_muertes.text\n",
    "        str_n_nuevas_muertes = str_n_nuevas_muertes.strip()\n",
    "        #str_n_nuevas_muertes = str_n_nuevas_muertes.replace(',', '')\n",
    "        \n",
    "        # Obtener valor Total Recuperados\n",
    "        str_n_total_recuperados = tr_html.find_all('td')\n",
    "        str_n_total_recuperados = str_n_total_recuperados[6]\n",
    "        str_n_total_recuperados = str_n_total_recuperados.text\n",
    "        str_n_total_recuperados = str_n_total_recuperados.strip()\n",
    "        #str_n_total_recuperados = str_n_total_recuperados.replace(',', '')\n",
    "        \n",
    "        # Obtener valor Nuevos Recuperados\n",
    "        str_n_nuevos_recuperados = tr_html.find_all('td')\n",
    "        str_n_nuevos_recuperados = str_n_nuevos_recuperados[7]\n",
    "        str_n_nuevos_recuperados = str_n_nuevos_recuperados.text\n",
    "        str_n_nuevos_recuperados = str_n_nuevos_recuperados.strip()\n",
    "        #str_n_nuevos_recuperados = str_n_nuevos_recuperados.replace(',', '')\n",
    "        \n",
    "        # Obtener valor Casos Activos\n",
    "        str_n_casos_activos = tr_html.find_all('td')\n",
    "        str_n_casos_activos = str_n_casos_activos[8]\n",
    "        str_n_casos_activos = str_n_casos_activos.text\n",
    "        str_n_casos_activos = str_n_casos_activos.strip()\n",
    "        #str_n_casos_activos = str_n_casos_activos.replace(',', '')\n",
    "        \n",
    "        # Obtener valor Casos Críticos\n",
    "        str_n_casos_criticos = tr_html.find_all('td')\n",
    "        str_n_casos_criticos = str_n_casos_criticos[9]\n",
    "        str_n_casos_criticos = str_n_casos_criticos.text\n",
    "        str_n_casos_criticos = str_n_casos_criticos.strip()\n",
    "        #str_n_casos_criticos = str_n_casos_criticos.replace(',', '')\n",
    "        \n",
    "        # Obtener valor Total Pruebas\n",
    "        str_n_total_pruebas = tr_html.find_all('td')\n",
    "        str_n_total_pruebas = str_n_total_pruebas[12]\n",
    "        str_n_total_pruebas = str_n_total_pruebas.text\n",
    "        str_n_total_pruebas = str_n_total_pruebas.strip()\n",
    "        #str_n_total_pruebas = str_n_total_pruebas.replace(',', '')\n",
    "        \n",
    "        # Obtener valor Poblacion\n",
    "        str_n_total_poblacion = tr_html.find_all('td')\n",
    "        str_n_total_poblacion = str_n_total_poblacion[14]\n",
    "        str_n_total_poblacion = str_n_total_poblacion.text\n",
    "        str_n_total_poblacion = str_n_total_poblacion.strip()\n",
    "        #str_n_total_poblacion = str_n_total_poblacion.replace(',', '')\n",
    "        \n",
    "        list_datos_pais.append([str_nombre_pais, str_n_total_casos, str_n_nuevos_casos, \n",
    "                                str_n_total_muertes, str_n_nuevas_muertes, str_n_total_recuperados, \n",
    "                                str_n_nuevos_recuperados, str_n_casos_activos, str_n_casos_criticos, \n",
    "                                str_n_total_pruebas, str_n_total_poblacion])\n",
    "    return list_datos_pais"
   ]
  },
  {
   "cell_type": "code",
   "execution_count": 3,
   "metadata": {},
   "outputs": [],
   "source": [
    "def construir_dataframe():\n",
    "    # Con la información obtenida de la lista de paises que contiene la lista de datos de cada pais se arma el dataframe.\n",
    "    lista_datos_paises = extraer_info_pais(list_tr_html)\n",
    "    dataframe_paises = pd.DataFrame(lista_datos_paises, \n",
    "                                columns = ['nombre_pais', 'n_total_casos', 'n_nuevos_casos', \n",
    "                                           'n_total_muertes', 'n_nuevas_muertes', 'n_total_recuperados', \n",
    "                                           'n_nuevos_recuperados', 'n_casos_activos', 'n_casos_crticos', \n",
    "                                           'n_total_pruebas', 'n_total_poblacion'])\n",
    "    return dataframe_paises"
   ]
  },
  {
   "cell_type": "code",
   "execution_count": 4,
   "metadata": {
    "id": "udujwIXwjFe-"
   },
   "outputs": [],
   "source": [
    "## url = \"https://www.worldometers.info/world-population/population-by-country/\"\n",
    "# Indicar la url de la web que se obtendrá la información\n",
    "url = \"https://www.worldometers.info/coronavirus/\"\n",
    "page = requests.get(url)"
   ]
  },
  {
   "cell_type": "code",
   "execution_count": 5,
   "metadata": {
    "id": "PDTVKB6KlHU-"
   },
   "outputs": [],
   "source": [
    "# Utilizar BeautifulSOup para obtener el HTML del requests\n",
    "soup = BeautifulSoup(page.content, 'html.parser')\n",
    "body_html = soup.body"
   ]
  },
  {
   "cell_type": "code",
   "execution_count": 6,
   "metadata": {
    "id": "tVugz4kQmDFU"
   },
   "outputs": [],
   "source": [
    "# Limpieeza del html que precisa la ubicación de los datos que buscamos\n",
    "table_html = body_html.find('table', class_='table table-bordered table-hover main_table_countries')\n",
    "list_tbody_html = table_html.find_all('tbody')\n",
    "list_tr_html = list_tbody_html[0].find_all('tr')\n",
    "# Eliminar los primeros TR que no son paises (son totales de continentes)\n",
    "list_tr_html = list_tr_html[8:]\n",
    "# Eliminar los ultimos valores que son sub totales\n",
    "list_tr_html = list_tr_html[:-1]"
   ]
  },
  {
   "cell_type": "code",
   "execution_count": 7,
   "metadata": {
    "id": "KivA1WP20EUt"
   },
   "outputs": [],
   "source": [
    "# Construimos el dataframe de acuerdo a las funciones mencionadas.\n",
    "df_paises = construir_dataframe()"
   ]
  },
  {
   "cell_type": "code",
   "execution_count": 8,
   "metadata": {},
   "outputs": [],
   "source": [
    "# Limpieza de datos\n",
    "df_paises[['n_total_casos', 'n_nuevos_casos', 'n_total_muertes', \n",
    "          'n_nuevas_muertes', 'n_total_recuperados', 'n_casos_activos', \n",
    "          'n_casos_crticos', 'n_total_pruebas', 'n_total_poblacion']] =  df_paises[['n_total_casos', 'n_nuevos_casos', 'n_total_muertes', \n",
    "                    'n_nuevas_muertes', 'n_total_recuperados', 'n_casos_activos', \n",
    "                    'n_casos_crticos', 'n_total_pruebas', 'n_total_poblacion']].replace([' ', 'N/A', ''], 0)"
   ]
  },
  {
   "cell_type": "code",
   "execution_count": 9,
   "metadata": {},
   "outputs": [],
   "source": [
    "# Limpieza de datos\n",
    "df_paises[['n_total_casos', 'n_nuevos_casos', 'n_total_muertes', \n",
    "          'n_nuevas_muertes', 'n_total_recuperados', 'n_casos_activos', \n",
    "          'n_casos_crticos', 'n_total_pruebas', 'n_total_poblacion']] =  df_paises[['n_total_casos', 'n_nuevos_casos', 'n_total_muertes', \n",
    "                    'n_nuevas_muertes', 'n_total_recuperados', 'n_casos_activos', \n",
    "                    'n_casos_crticos', 'n_total_pruebas', 'n_total_poblacion']].applymap(lambda x: int(str(x).replace(',', '')))"
   ]
  },
  {
   "cell_type": "code",
   "execution_count": 10,
   "metadata": {},
   "outputs": [],
   "source": [
    "df_paises[['n_total_casos', 'n_nuevos_casos', 'n_total_muertes', \n",
    "          'n_nuevas_muertes', 'n_total_recuperados', 'n_casos_activos', \n",
    "          'n_casos_crticos', 'n_total_pruebas', 'n_total_poblacion']] =  df_paises[['n_total_casos', 'n_nuevos_casos', 'n_total_muertes', \n",
    "                    'n_nuevas_muertes', 'n_total_recuperados', 'n_casos_activos', \n",
    "                    'n_casos_crticos', 'n_total_pruebas', 'n_total_poblacion']].astype('int')"
   ]
  },
  {
   "cell_type": "code",
   "execution_count": 11,
   "metadata": {},
   "outputs": [
    {
     "data": {
      "text/html": [
       "<div>\n",
       "<style scoped>\n",
       "    .dataframe tbody tr th:only-of-type {\n",
       "        vertical-align: middle;\n",
       "    }\n",
       "\n",
       "    .dataframe tbody tr th {\n",
       "        vertical-align: top;\n",
       "    }\n",
       "\n",
       "    .dataframe thead th {\n",
       "        text-align: right;\n",
       "    }\n",
       "</style>\n",
       "<table border=\"1\" class=\"dataframe\">\n",
       "  <thead>\n",
       "    <tr style=\"text-align: right;\">\n",
       "      <th></th>\n",
       "      <th>nombre_pais</th>\n",
       "      <th>n_total_casos</th>\n",
       "      <th>n_nuevos_casos</th>\n",
       "      <th>n_total_muertes</th>\n",
       "      <th>n_nuevas_muertes</th>\n",
       "      <th>n_total_recuperados</th>\n",
       "      <th>n_nuevos_recuperados</th>\n",
       "      <th>n_casos_activos</th>\n",
       "      <th>n_casos_crticos</th>\n",
       "      <th>n_total_pruebas</th>\n",
       "      <th>n_total_poblacion</th>\n",
       "    </tr>\n",
       "  </thead>\n",
       "  <tbody>\n",
       "    <tr>\n",
       "      <th>0</th>\n",
       "      <td>USA</td>\n",
       "      <td>111820082</td>\n",
       "      <td>0</td>\n",
       "      <td>1219487</td>\n",
       "      <td>0</td>\n",
       "      <td>109814428</td>\n",
       "      <td></td>\n",
       "      <td>786167</td>\n",
       "      <td>940</td>\n",
       "      <td>1186851502</td>\n",
       "      <td>334805269</td>\n",
       "    </tr>\n",
       "    <tr>\n",
       "      <th>1</th>\n",
       "      <td>India</td>\n",
       "      <td>45035393</td>\n",
       "      <td>0</td>\n",
       "      <td>533570</td>\n",
       "      <td>0</td>\n",
       "      <td>0</td>\n",
       "      <td>N/A</td>\n",
       "      <td>0</td>\n",
       "      <td>0</td>\n",
       "      <td>935879495</td>\n",
       "      <td>1406631776</td>\n",
       "    </tr>\n",
       "    <tr>\n",
       "      <th>2</th>\n",
       "      <td>France</td>\n",
       "      <td>40138560</td>\n",
       "      <td>0</td>\n",
       "      <td>167642</td>\n",
       "      <td>0</td>\n",
       "      <td>39970918</td>\n",
       "      <td></td>\n",
       "      <td>0</td>\n",
       "      <td>0</td>\n",
       "      <td>271490188</td>\n",
       "      <td>65584518</td>\n",
       "    </tr>\n",
       "    <tr>\n",
       "      <th>3</th>\n",
       "      <td>Germany</td>\n",
       "      <td>38828995</td>\n",
       "      <td>0</td>\n",
       "      <td>183027</td>\n",
       "      <td>0</td>\n",
       "      <td>38240600</td>\n",
       "      <td></td>\n",
       "      <td>405368</td>\n",
       "      <td>0</td>\n",
       "      <td>122332384</td>\n",
       "      <td>83883596</td>\n",
       "    </tr>\n",
       "    <tr>\n",
       "      <th>4</th>\n",
       "      <td>Brazil</td>\n",
       "      <td>38743918</td>\n",
       "      <td>0</td>\n",
       "      <td>711380</td>\n",
       "      <td>0</td>\n",
       "      <td>36249161</td>\n",
       "      <td></td>\n",
       "      <td>1783377</td>\n",
       "      <td>0</td>\n",
       "      <td>63776166</td>\n",
       "      <td>215353593</td>\n",
       "    </tr>\n",
       "  </tbody>\n",
       "</table>\n",
       "</div>"
      ],
      "text/plain": [
       "  nombre_pais  n_total_casos  n_nuevos_casos  n_total_muertes  \\\n",
       "0         USA      111820082               0          1219487   \n",
       "1       India       45035393               0           533570   \n",
       "2      France       40138560               0           167642   \n",
       "3     Germany       38828995               0           183027   \n",
       "4      Brazil       38743918               0           711380   \n",
       "\n",
       "   n_nuevas_muertes  n_total_recuperados n_nuevos_recuperados  \\\n",
       "0                 0            109814428                        \n",
       "1                 0                    0                  N/A   \n",
       "2                 0             39970918                        \n",
       "3                 0             38240600                        \n",
       "4                 0             36249161                        \n",
       "\n",
       "   n_casos_activos  n_casos_crticos  n_total_pruebas  n_total_poblacion  \n",
       "0           786167              940       1186851502          334805269  \n",
       "1                0                0        935879495         1406631776  \n",
       "2                0                0        271490188           65584518  \n",
       "3           405368                0        122332384           83883596  \n",
       "4          1783377                0         63776166          215353593  "
      ]
     },
     "execution_count": 11,
     "metadata": {},
     "output_type": "execute_result"
    }
   ],
   "source": [
    "# Los primeros 5 paises del scraping web\n",
    "df_paises.head()"
   ]
  },
  {
   "cell_type": "code",
   "execution_count": 12,
   "metadata": {
    "scrolled": true
   },
   "outputs": [
    {
     "data": {
      "text/html": [
       "<div>\n",
       "<style scoped>\n",
       "    .dataframe tbody tr th:only-of-type {\n",
       "        vertical-align: middle;\n",
       "    }\n",
       "\n",
       "    .dataframe tbody tr th {\n",
       "        vertical-align: top;\n",
       "    }\n",
       "\n",
       "    .dataframe thead th {\n",
       "        text-align: right;\n",
       "    }\n",
       "</style>\n",
       "<table border=\"1\" class=\"dataframe\">\n",
       "  <thead>\n",
       "    <tr style=\"text-align: right;\">\n",
       "      <th></th>\n",
       "      <th>nombre_pais</th>\n",
       "      <th>n_total_casos</th>\n",
       "      <th>n_nuevos_casos</th>\n",
       "      <th>n_total_muertes</th>\n",
       "      <th>n_nuevas_muertes</th>\n",
       "      <th>n_total_recuperados</th>\n",
       "      <th>n_nuevos_recuperados</th>\n",
       "      <th>n_casos_activos</th>\n",
       "      <th>n_casos_crticos</th>\n",
       "      <th>n_total_pruebas</th>\n",
       "      <th>n_total_poblacion</th>\n",
       "    </tr>\n",
       "  </thead>\n",
       "  <tbody>\n",
       "    <tr>\n",
       "      <th>225</th>\n",
       "      <td>Diamond Princess</td>\n",
       "      <td>712</td>\n",
       "      <td>0</td>\n",
       "      <td>13</td>\n",
       "      <td>0</td>\n",
       "      <td>699</td>\n",
       "      <td></td>\n",
       "      <td>0</td>\n",
       "      <td>0</td>\n",
       "      <td>0</td>\n",
       "      <td>0</td>\n",
       "    </tr>\n",
       "    <tr>\n",
       "      <th>226</th>\n",
       "      <td>Tokelau</td>\n",
       "      <td>80</td>\n",
       "      <td>0</td>\n",
       "      <td>0</td>\n",
       "      <td>0</td>\n",
       "      <td>0</td>\n",
       "      <td></td>\n",
       "      <td>80</td>\n",
       "      <td>0</td>\n",
       "      <td>0</td>\n",
       "      <td>1378</td>\n",
       "    </tr>\n",
       "    <tr>\n",
       "      <th>227</th>\n",
       "      <td>Vatican City</td>\n",
       "      <td>29</td>\n",
       "      <td>0</td>\n",
       "      <td>0</td>\n",
       "      <td>0</td>\n",
       "      <td>29</td>\n",
       "      <td></td>\n",
       "      <td>0</td>\n",
       "      <td>0</td>\n",
       "      <td>0</td>\n",
       "      <td>799</td>\n",
       "    </tr>\n",
       "    <tr>\n",
       "      <th>228</th>\n",
       "      <td>Western Sahara</td>\n",
       "      <td>10</td>\n",
       "      <td>0</td>\n",
       "      <td>1</td>\n",
       "      <td>0</td>\n",
       "      <td>9</td>\n",
       "      <td></td>\n",
       "      <td>0</td>\n",
       "      <td>0</td>\n",
       "      <td>0</td>\n",
       "      <td>626161</td>\n",
       "    </tr>\n",
       "    <tr>\n",
       "      <th>229</th>\n",
       "      <td>MS Zaandam</td>\n",
       "      <td>9</td>\n",
       "      <td>0</td>\n",
       "      <td>2</td>\n",
       "      <td>0</td>\n",
       "      <td>7</td>\n",
       "      <td></td>\n",
       "      <td>0</td>\n",
       "      <td>0</td>\n",
       "      <td>0</td>\n",
       "      <td>0</td>\n",
       "    </tr>\n",
       "  </tbody>\n",
       "</table>\n",
       "</div>"
      ],
      "text/plain": [
       "          nombre_pais  n_total_casos  n_nuevos_casos  n_total_muertes  \\\n",
       "225  Diamond Princess            712               0               13   \n",
       "226           Tokelau             80               0                0   \n",
       "227      Vatican City             29               0                0   \n",
       "228    Western Sahara             10               0                1   \n",
       "229        MS Zaandam              9               0                2   \n",
       "\n",
       "     n_nuevas_muertes  n_total_recuperados n_nuevos_recuperados  \\\n",
       "225                 0                  699                        \n",
       "226                 0                    0                        \n",
       "227                 0                   29                        \n",
       "228                 0                    9                        \n",
       "229                 0                    7                        \n",
       "\n",
       "     n_casos_activos  n_casos_crticos  n_total_pruebas  n_total_poblacion  \n",
       "225                0                0                0                  0  \n",
       "226               80                0                0               1378  \n",
       "227                0                0                0                799  \n",
       "228                0                0                0             626161  \n",
       "229                0                0                0                  0  "
      ]
     },
     "execution_count": 12,
     "metadata": {},
     "output_type": "execute_result"
    }
   ],
   "source": [
    "# Los últimos 5 paises del scraping web\n",
    "df_paises.tail()"
   ]
  },
  {
   "cell_type": "code",
   "execution_count": 13,
   "metadata": {},
   "outputs": [
    {
     "data": {
      "text/plain": [
       "704250588"
      ]
     },
     "execution_count": 13,
     "metadata": {},
     "output_type": "execute_result"
    }
   ],
   "source": [
    "# Total casos\n",
    "total_casos = df_paises['n_total_casos'].sum()\n",
    "total_casos"
   ]
  },
  {
   "cell_type": "code",
   "execution_count": 14,
   "metadata": {},
   "outputs": [
    {
     "data": {
      "text/plain": [
       "7005409"
      ]
     },
     "execution_count": 14,
     "metadata": {},
     "output_type": "execute_result"
    }
   ],
   "source": [
    "# Total muertes\n",
    "total_muertes = df_paises['n_total_muertes'].sum()\n",
    "total_muertes"
   ]
  },
  {
   "cell_type": "code",
   "execution_count": 15,
   "metadata": {},
   "outputs": [
    {
     "data": {
      "text/plain": [
       "6866505313"
      ]
     },
     "execution_count": 15,
     "metadata": {},
     "output_type": "execute_result"
    }
   ],
   "source": [
    "# Total Pruebas\n",
    "total_pruebas = df_paises['n_total_pruebas'].sum()\n",
    "total_pruebas"
   ]
  },
  {
   "cell_type": "code",
   "execution_count": 16,
   "metadata": {},
   "outputs": [],
   "source": [
    "# Rank 5 países con mayor total de caso\n",
    "df_paises_mayor_total_casos = df_paises.sort_values(by='n_total_casos', ascending=False).head(5)\n",
    "df_paises_mayor_total_casos = df_paises_mayor_total_casos[['nombre_pais', 'n_total_casos']]\n",
    "df_paises_mayor_total_casos['%_total_casos'] = df_paises_mayor_total_casos['n_total_casos'] / total_casos * 100\n",
    "df_paises_mayor_total_casos['%_total_casos'] = df_paises_mayor_total_casos['%_total_casos'].apply(lambda x: f'{x:.2f}%')"
   ]
  },
  {
   "cell_type": "code",
   "execution_count": 17,
   "metadata": {},
   "outputs": [
    {
     "data": {
      "text/html": [
       "<div>\n",
       "<style scoped>\n",
       "    .dataframe tbody tr th:only-of-type {\n",
       "        vertical-align: middle;\n",
       "    }\n",
       "\n",
       "    .dataframe tbody tr th {\n",
       "        vertical-align: top;\n",
       "    }\n",
       "\n",
       "    .dataframe thead th {\n",
       "        text-align: right;\n",
       "    }\n",
       "</style>\n",
       "<table border=\"1\" class=\"dataframe\">\n",
       "  <thead>\n",
       "    <tr style=\"text-align: right;\">\n",
       "      <th></th>\n",
       "      <th>nombre_pais</th>\n",
       "      <th>n_total_casos</th>\n",
       "      <th>%_total_casos</th>\n",
       "    </tr>\n",
       "  </thead>\n",
       "  <tbody>\n",
       "    <tr>\n",
       "      <th>0</th>\n",
       "      <td>USA</td>\n",
       "      <td>111820082</td>\n",
       "      <td>15.88%</td>\n",
       "    </tr>\n",
       "    <tr>\n",
       "      <th>1</th>\n",
       "      <td>India</td>\n",
       "      <td>45035393</td>\n",
       "      <td>6.39%</td>\n",
       "    </tr>\n",
       "    <tr>\n",
       "      <th>2</th>\n",
       "      <td>France</td>\n",
       "      <td>40138560</td>\n",
       "      <td>5.70%</td>\n",
       "    </tr>\n",
       "    <tr>\n",
       "      <th>3</th>\n",
       "      <td>Germany</td>\n",
       "      <td>38828995</td>\n",
       "      <td>5.51%</td>\n",
       "    </tr>\n",
       "    <tr>\n",
       "      <th>4</th>\n",
       "      <td>Brazil</td>\n",
       "      <td>38743918</td>\n",
       "      <td>5.50%</td>\n",
       "    </tr>\n",
       "  </tbody>\n",
       "</table>\n",
       "</div>"
      ],
      "text/plain": [
       "  nombre_pais  n_total_casos %_total_casos\n",
       "0         USA      111820082        15.88%\n",
       "1       India       45035393         6.39%\n",
       "2      France       40138560         5.70%\n",
       "3     Germany       38828995         5.51%\n",
       "4      Brazil       38743918         5.50%"
      ]
     },
     "execution_count": 17,
     "metadata": {},
     "output_type": "execute_result"
    }
   ],
   "source": [
    "df_paises_mayor_total_casos"
   ]
  },
  {
   "cell_type": "code",
   "execution_count": 18,
   "metadata": {},
   "outputs": [
    {
     "data": {
      "image/png": "[encoded data removed]",
      "text/plain": [
       "<Figure size 800x800 with 1 Axes>"
      ]
     },
     "metadata": {},
     "output_type": "display_data"
    }
   ],
   "source": [
    "plt.figure(figsize=(8,8))\n",
    "plt.pie(df_paises_mayor_total_casos['n_total_casos'], labels = df_paises_mayor_total_casos['nombre_pais'],autopct='%1.1f%%', startangle=140)\n",
    "plt.show()"
   ]
  },
  {
   "cell_type": "code",
   "execution_count": 19,
   "metadata": {},
   "outputs": [],
   "source": [
    "# Rank 5 países con menor total de caso\n",
    "df_paises_menor_total_casos = df_paises.sort_values(by='n_total_casos', ascending=True).head(5)\n",
    "df_paises_menor_total_casos = df_paises_menor_total_casos[['nombre_pais', 'n_total_casos']]\n",
    "df_paises_menor_total_casos['%_total_casos'] = df_paises_menor_total_casos['n_total_casos'] / total_casos * 100\n",
    "df_paises_menor_total_casos['%_total_casos'] = df_paises_menor_total_casos['%_total_casos'].apply(lambda x: f'{x:.2f}%')"
   ]
  },
  {
   "cell_type": "code",
   "execution_count": 20,
   "metadata": {},
   "outputs": [
    {
     "data": {
      "text/html": [
       "<div>\n",
       "<style scoped>\n",
       "    .dataframe tbody tr th:only-of-type {\n",
       "        vertical-align: middle;\n",
       "    }\n",
       "\n",
       "    .dataframe tbody tr th {\n",
       "        vertical-align: top;\n",
       "    }\n",
       "\n",
       "    .dataframe thead th {\n",
       "        text-align: right;\n",
       "    }\n",
       "</style>\n",
       "<table border=\"1\" class=\"dataframe\">\n",
       "  <thead>\n",
       "    <tr style=\"text-align: right;\">\n",
       "      <th></th>\n",
       "      <th>nombre_pais</th>\n",
       "      <th>n_total_casos</th>\n",
       "      <th>%_total_casos</th>\n",
       "    </tr>\n",
       "  </thead>\n",
       "  <tbody>\n",
       "    <tr>\n",
       "      <th>229</th>\n",
       "      <td>MS Zaandam</td>\n",
       "      <td>9</td>\n",
       "      <td>0.00%</td>\n",
       "    </tr>\n",
       "    <tr>\n",
       "      <th>228</th>\n",
       "      <td>Western Sahara</td>\n",
       "      <td>10</td>\n",
       "      <td>0.00%</td>\n",
       "    </tr>\n",
       "    <tr>\n",
       "      <th>227</th>\n",
       "      <td>Vatican City</td>\n",
       "      <td>29</td>\n",
       "      <td>0.00%</td>\n",
       "    </tr>\n",
       "    <tr>\n",
       "      <th>226</th>\n",
       "      <td>Tokelau</td>\n",
       "      <td>80</td>\n",
       "      <td>0.00%</td>\n",
       "    </tr>\n",
       "    <tr>\n",
       "      <th>225</th>\n",
       "      <td>Diamond Princess</td>\n",
       "      <td>712</td>\n",
       "      <td>0.00%</td>\n",
       "    </tr>\n",
       "  </tbody>\n",
       "</table>\n",
       "</div>"
      ],
      "text/plain": [
       "          nombre_pais  n_total_casos %_total_casos\n",
       "229        MS Zaandam              9         0.00%\n",
       "228    Western Sahara             10         0.00%\n",
       "227      Vatican City             29         0.00%\n",
       "226           Tokelau             80         0.00%\n",
       "225  Diamond Princess            712         0.00%"
      ]
     },
     "execution_count": 20,
     "metadata": {},
     "output_type": "execute_result"
    }
   ],
   "source": [
    "df_paises_menor_total_casos"
   ]
  },
  {
   "cell_type": "code",
   "execution_count": 21,
   "metadata": {},
   "outputs": [
    {
     "data": {
      "image/png": "[encoded data removed]",
      "text/plain": [
       "<Figure size 800x800 with 1 Axes>"
      ]
     },
     "metadata": {},
     "output_type": "display_data"
    }
   ],
   "source": [
    "plt.figure(figsize=(8,8))\n",
    "plt.pie(df_paises_menor_total_casos['n_total_casos'], labels = df_paises_menor_total_casos['nombre_pais'],autopct='%1.1f%%', startangle=140)\n",
    "plt.show()"
   ]
  },
  {
   "cell_type": "code",
   "execution_count": 22,
   "metadata": {},
   "outputs": [],
   "source": [
    "# Rank 5 países con mayor total de muertes\n",
    "df_paises_mayor_muerte = df_paises.sort_values(by='n_total_muertes', ascending=False).head(5)\n",
    "df_paises_mayor_muerte = df_paises_mayor_muerte[['nombre_pais', 'n_total_muertes']]\n",
    "df_paises_mayor_muerte['%_total_casos'] = df_paises_mayor_muerte['n_total_muertes'] / total_muertes * 100\n",
    "df_paises_mayor_muerte['%_total_casos'] = df_paises_mayor_muerte['%_total_casos'].apply(lambda x: f'{x:.2f}%')"
   ]
  },
  {
   "cell_type": "code",
   "execution_count": 23,
   "metadata": {},
   "outputs": [
    {
     "data": {
      "text/html": [
       "<div>\n",
       "<style scoped>\n",
       "    .dataframe tbody tr th:only-of-type {\n",
       "        vertical-align: middle;\n",
       "    }\n",
       "\n",
       "    .dataframe tbody tr th {\n",
       "        vertical-align: top;\n",
       "    }\n",
       "\n",
       "    .dataframe thead th {\n",
       "        text-align: right;\n",
       "    }\n",
       "</style>\n",
       "<table border=\"1\" class=\"dataframe\">\n",
       "  <thead>\n",
       "    <tr style=\"text-align: right;\">\n",
       "      <th></th>\n",
       "      <th>nombre_pais</th>\n",
       "      <th>n_total_muertes</th>\n",
       "      <th>%_total_casos</th>\n",
       "    </tr>\n",
       "  </thead>\n",
       "  <tbody>\n",
       "    <tr>\n",
       "      <th>0</th>\n",
       "      <td>USA</td>\n",
       "      <td>1219487</td>\n",
       "      <td>17.41%</td>\n",
       "    </tr>\n",
       "    <tr>\n",
       "      <th>4</th>\n",
       "      <td>Brazil</td>\n",
       "      <td>711380</td>\n",
       "      <td>10.15%</td>\n",
       "    </tr>\n",
       "    <tr>\n",
       "      <th>1</th>\n",
       "      <td>India</td>\n",
       "      <td>533570</td>\n",
       "      <td>7.62%</td>\n",
       "    </tr>\n",
       "    <tr>\n",
       "      <th>9</th>\n",
       "      <td>Russia</td>\n",
       "      <td>402756</td>\n",
       "      <td>5.75%</td>\n",
       "    </tr>\n",
       "    <tr>\n",
       "      <th>17</th>\n",
       "      <td>Mexico</td>\n",
       "      <td>334958</td>\n",
       "      <td>4.78%</td>\n",
       "    </tr>\n",
       "  </tbody>\n",
       "</table>\n",
       "</div>"
      ],
      "text/plain": [
       "   nombre_pais  n_total_muertes %_total_casos\n",
       "0          USA          1219487        17.41%\n",
       "4       Brazil           711380        10.15%\n",
       "1        India           533570         7.62%\n",
       "9       Russia           402756         5.75%\n",
       "17      Mexico           334958         4.78%"
      ]
     },
     "execution_count": 23,
     "metadata": {},
     "output_type": "execute_result"
    }
   ],
   "source": [
    "df_paises_mayor_muerte"
   ]
  },
  {
   "cell_type": "code",
   "execution_count": 24,
   "metadata": {},
   "outputs": [
    {
     "data": {
      "image/png": "[encoded data removed]",
      "text/plain": [
       "<Figure size 800x800 with 1 Axes>"
      ]
     },
     "metadata": {},
     "output_type": "display_data"
    }
   ],
   "source": [
    "plt.figure(figsize=(8,8))\n",
    "plt.pie(df_paises_mayor_muerte['n_total_muertes'], labels = df_paises_mayor_muerte['nombre_pais'],autopct='%1.1f%%', startangle=140)\n",
    "plt.show()"
   ]
  },
  {
   "cell_type": "code",
   "execution_count": 25,
   "metadata": {},
   "outputs": [],
   "source": [
    "# Rank 5 países con menor total de muertes\n",
    "df_paises_menor_muerte = df_paises.sort_values(by='n_total_muertes', ascending=True).head(5)\n",
    "df_paises_menor_muerte = df_paises_menor_muerte[['nombre_pais', 'n_total_muertes']]\n",
    "df_paises_menor_muerte['%_total_muerte'] = df_paises_menor_muerte['n_total_muertes'] / total_muertes * 100\n",
    "df_paises_menor_muerte['%_total_muerte'] = df_paises_menor_muerte['%_total_muerte'].apply(lambda x: f'{x:.2f}%')"
   ]
  },
  {
   "cell_type": "code",
   "execution_count": 26,
   "metadata": {},
   "outputs": [
    {
     "data": {
      "text/html": [
       "<div>\n",
       "<style scoped>\n",
       "    .dataframe tbody tr th:only-of-type {\n",
       "        vertical-align: middle;\n",
       "    }\n",
       "\n",
       "    .dataframe tbody tr th {\n",
       "        vertical-align: top;\n",
       "    }\n",
       "\n",
       "    .dataframe thead th {\n",
       "        text-align: right;\n",
       "    }\n",
       "</style>\n",
       "<table border=\"1\" class=\"dataframe\">\n",
       "  <thead>\n",
       "    <tr style=\"text-align: right;\">\n",
       "      <th></th>\n",
       "      <th>nombre_pais</th>\n",
       "      <th>n_total_muertes</th>\n",
       "      <th>%_total_muerte</th>\n",
       "    </tr>\n",
       "  </thead>\n",
       "  <tbody>\n",
       "    <tr>\n",
       "      <th>227</th>\n",
       "      <td>Vatican City</td>\n",
       "      <td>0</td>\n",
       "      <td>0.00%</td>\n",
       "    </tr>\n",
       "    <tr>\n",
       "      <th>226</th>\n",
       "      <td>Tokelau</td>\n",
       "      <td>0</td>\n",
       "      <td>0.00%</td>\n",
       "    </tr>\n",
       "    <tr>\n",
       "      <th>224</th>\n",
       "      <td>Niue</td>\n",
       "      <td>0</td>\n",
       "      <td>0.00%</td>\n",
       "    </tr>\n",
       "    <tr>\n",
       "      <th>222</th>\n",
       "      <td>Falkland Islands</td>\n",
       "      <td>0</td>\n",
       "      <td>0.00%</td>\n",
       "    </tr>\n",
       "    <tr>\n",
       "      <th>221</th>\n",
       "      <td>Saint Helena</td>\n",
       "      <td>0</td>\n",
       "      <td>0.00%</td>\n",
       "    </tr>\n",
       "  </tbody>\n",
       "</table>\n",
       "</div>"
      ],
      "text/plain": [
       "          nombre_pais  n_total_muertes %_total_muerte\n",
       "227      Vatican City                0          0.00%\n",
       "226           Tokelau                0          0.00%\n",
       "224              Niue                0          0.00%\n",
       "222  Falkland Islands                0          0.00%\n",
       "221      Saint Helena                0          0.00%"
      ]
     },
     "execution_count": 26,
     "metadata": {},
     "output_type": "execute_result"
    }
   ],
   "source": [
    "df_paises_menor_muerte"
   ]
  },
  {
   "cell_type": "code",
   "execution_count": 27,
   "metadata": {},
   "outputs": [],
   "source": [
    "# Rank 5 paises con mayor uso de pruebas\n",
    "df_paises_mayor_pruebas = df_paises.sort_values(by='n_total_pruebas', ascending=False).head(5)\n",
    "df_paises_mayor_pruebas = df_paises_mayor_pruebas[['nombre_pais', 'n_total_pruebas']]\n",
    "df_paises_mayor_pruebas['%_total_pruebas'] = df_paises_mayor_pruebas['n_total_pruebas'] / total_pruebas * 100\n",
    "df_paises_mayor_pruebas['%_total_pruebas'] = df_paises_mayor_pruebas['%_total_pruebas'].apply(lambda x: f'{x:.2f}%')"
   ]
  },
  {
   "cell_type": "code",
   "execution_count": 28,
   "metadata": {},
   "outputs": [
    {
     "data": {
      "text/html": [
       "<div>\n",
       "<style scoped>\n",
       "    .dataframe tbody tr th:only-of-type {\n",
       "        vertical-align: middle;\n",
       "    }\n",
       "\n",
       "    .dataframe tbody tr th {\n",
       "        vertical-align: top;\n",
       "    }\n",
       "\n",
       "    .dataframe thead th {\n",
       "        text-align: right;\n",
       "    }\n",
       "</style>\n",
       "<table border=\"1\" class=\"dataframe\">\n",
       "  <thead>\n",
       "    <tr style=\"text-align: right;\">\n",
       "      <th></th>\n",
       "      <th>nombre_pais</th>\n",
       "      <th>n_total_pruebas</th>\n",
       "      <th>%_total_pruebas</th>\n",
       "    </tr>\n",
       "  </thead>\n",
       "  <tbody>\n",
       "    <tr>\n",
       "      <th>0</th>\n",
       "      <td>USA</td>\n",
       "      <td>1186851502</td>\n",
       "      <td>17.28%</td>\n",
       "    </tr>\n",
       "    <tr>\n",
       "      <th>1</th>\n",
       "      <td>India</td>\n",
       "      <td>935879495</td>\n",
       "      <td>13.63%</td>\n",
       "    </tr>\n",
       "    <tr>\n",
       "      <th>8</th>\n",
       "      <td>UK</td>\n",
       "      <td>522526476</td>\n",
       "      <td>7.61%</td>\n",
       "    </tr>\n",
       "    <tr>\n",
       "      <th>11</th>\n",
       "      <td>Spain</td>\n",
       "      <td>471036328</td>\n",
       "      <td>6.86%</td>\n",
       "    </tr>\n",
       "    <tr>\n",
       "      <th>7</th>\n",
       "      <td>Italy</td>\n",
       "      <td>281126449</td>\n",
       "      <td>4.09%</td>\n",
       "    </tr>\n",
       "  </tbody>\n",
       "</table>\n",
       "</div>"
      ],
      "text/plain": [
       "   nombre_pais  n_total_pruebas %_total_pruebas\n",
       "0          USA       1186851502          17.28%\n",
       "1        India        935879495          13.63%\n",
       "8           UK        522526476           7.61%\n",
       "11       Spain        471036328           6.86%\n",
       "7        Italy        281126449           4.09%"
      ]
     },
     "execution_count": 28,
     "metadata": {},
     "output_type": "execute_result"
    }
   ],
   "source": [
    "df_paises_mayor_pruebas"
   ]
  },
  {
   "cell_type": "code",
   "execution_count": 29,
   "metadata": {},
   "outputs": [
    {
     "data": {
      "image/png": "[encoded data removed]",
      "text/plain": [
       "<Figure size 800x800 with 1 Axes>"
      ]
     },
     "metadata": {},
     "output_type": "display_data"
    }
   ],
   "source": [
    "plt.figure(figsize=(8,8))\n",
    "plt.pie(df_paises_mayor_pruebas['n_total_pruebas'], labels = df_paises_mayor_pruebas['nombre_pais'],autopct='%1.1f%%', startangle=140)\n",
    "plt.show()"
   ]
  },
  {
   "cell_type": "code",
   "execution_count": 30,
   "metadata": {},
   "outputs": [],
   "source": [
    "# Rank 5 paises con menor uso de pruebas\n",
    "df_paises_menor_pruebas = df_paises.sort_values(by='n_total_pruebas', ascending=True).head(5)\n",
    "df_paises_menor_pruebas = df_paises_menor_pruebas[['nombre_pais', 'n_total_pruebas']]\n",
    "df_paises_menor_pruebas['%_total_pruebas'] = df_paises_menor_pruebas['n_total_pruebas'] / total_pruebas * 100\n",
    "df_paises_menor_pruebas['%_total_pruebas'] = df_paises_menor_pruebas['%_total_pruebas'].apply(lambda x: f'{x:.2f}%')"
   ]
  },
  {
   "cell_type": "code",
   "execution_count": 31,
   "metadata": {},
   "outputs": [
    {
     "data": {
      "text/html": [
       "<div>\n",
       "<style scoped>\n",
       "    .dataframe tbody tr th:only-of-type {\n",
       "        vertical-align: middle;\n",
       "    }\n",
       "\n",
       "    .dataframe tbody tr th {\n",
       "        vertical-align: top;\n",
       "    }\n",
       "\n",
       "    .dataframe thead th {\n",
       "        text-align: right;\n",
       "    }\n",
       "</style>\n",
       "<table border=\"1\" class=\"dataframe\">\n",
       "  <thead>\n",
       "    <tr style=\"text-align: right;\">\n",
       "      <th></th>\n",
       "      <th>nombre_pais</th>\n",
       "      <th>n_total_pruebas</th>\n",
       "      <th>%_total_pruebas</th>\n",
       "    </tr>\n",
       "  </thead>\n",
       "  <tbody>\n",
       "    <tr>\n",
       "      <th>229</th>\n",
       "      <td>MS Zaandam</td>\n",
       "      <td>0</td>\n",
       "      <td>0.00%</td>\n",
       "    </tr>\n",
       "    <tr>\n",
       "      <th>188</th>\n",
       "      <td>Marshall Islands</td>\n",
       "      <td>0</td>\n",
       "      <td>0.00%</td>\n",
       "    </tr>\n",
       "    <tr>\n",
       "      <th>31</th>\n",
       "      <td>DPRK</td>\n",
       "      <td>0</td>\n",
       "      <td>0.00%</td>\n",
       "    </tr>\n",
       "    <tr>\n",
       "      <th>183</th>\n",
       "      <td>Tajikistan</td>\n",
       "      <td>0</td>\n",
       "      <td>0.00%</td>\n",
       "    </tr>\n",
       "    <tr>\n",
       "      <th>182</th>\n",
       "      <td>Nicaragua</td>\n",
       "      <td>0</td>\n",
       "      <td>0.00%</td>\n",
       "    </tr>\n",
       "  </tbody>\n",
       "</table>\n",
       "</div>"
      ],
      "text/plain": [
       "          nombre_pais  n_total_pruebas %_total_pruebas\n",
       "229        MS Zaandam                0           0.00%\n",
       "188  Marshall Islands                0           0.00%\n",
       "31               DPRK                0           0.00%\n",
       "183        Tajikistan                0           0.00%\n",
       "182         Nicaragua                0           0.00%"
      ]
     },
     "execution_count": 31,
     "metadata": {},
     "output_type": "execute_result"
    }
   ],
   "source": [
    "df_paises_menor_pruebas"
   ]
  },
  {
   "cell_type": "code",
   "execution_count": 32,
   "metadata": {},
   "outputs": [
    {
     "name": "stdout",
     "output_type": "stream",
     "text": [
      "  nombre_pais  n_total_casos %_total_casos\n",
      "0         USA      111820082        15.88%\n",
      "1       India       45035393         6.39%\n",
      "2      France       40138560         5.70%\n",
      "3     Germany       38828995         5.51%\n",
      "4      Brazil       38743918         5.50%\n",
      "   nombre_pais  n_total_muertes %_total_casos\n",
      "0          USA          1219487        17.41%\n",
      "4       Brazil           711380        10.15%\n",
      "1        India           533570         7.62%\n",
      "9       Russia           402756         5.75%\n",
      "17      Mexico           334958         4.78%\n",
      "   nombre_pais  n_total_pruebas %_total_pruebas\n",
      "0          USA       1186851502          17.28%\n",
      "1        India        935879495          13.63%\n",
      "8           UK        522526476           7.61%\n",
      "11       Spain        471036328           6.86%\n",
      "7        Italy        281126449           4.09%\n"
     ]
    }
   ],
   "source": [
    "print(df_paises_mayor_total_casos)\n",
    "print(df_paises_mayor_muerte)\n",
    "print(df_paises_mayor_pruebas)"
   ]
  },
  {
   "cell_type": "markdown",
   "metadata": {},
   "source": [
    "# Análisis de datos"
   ]
  },
  {
   "cell_type": "markdown",
   "metadata": {},
   "source": [
    "### Mayor cantidad de casos"
   ]
  },
  {
   "cell_type": "code",
   "execution_count": 33,
   "metadata": {
    "scrolled": true
   },
   "outputs": [
    {
     "data": {
      "text/html": [
       "<div>\n",
       "<style scoped>\n",
       "    .dataframe tbody tr th:only-of-type {\n",
       "        vertical-align: middle;\n",
       "    }\n",
       "\n",
       "    .dataframe tbody tr th {\n",
       "        vertical-align: top;\n",
       "    }\n",
       "\n",
       "    .dataframe thead th {\n",
       "        text-align: right;\n",
       "    }\n",
       "</style>\n",
       "<table border=\"1\" class=\"dataframe\">\n",
       "  <thead>\n",
       "    <tr style=\"text-align: right;\">\n",
       "      <th></th>\n",
       "      <th>nombre_pais</th>\n",
       "      <th>n_total_casos</th>\n",
       "      <th>%_total_casos</th>\n",
       "    </tr>\n",
       "  </thead>\n",
       "  <tbody>\n",
       "    <tr>\n",
       "      <th>0</th>\n",
       "      <td>USA</td>\n",
       "      <td>111820082</td>\n",
       "      <td>15.88%</td>\n",
       "    </tr>\n",
       "    <tr>\n",
       "      <th>1</th>\n",
       "      <td>India</td>\n",
       "      <td>45035393</td>\n",
       "      <td>6.39%</td>\n",
       "    </tr>\n",
       "    <tr>\n",
       "      <th>2</th>\n",
       "      <td>France</td>\n",
       "      <td>40138560</td>\n",
       "      <td>5.70%</td>\n",
       "    </tr>\n",
       "    <tr>\n",
       "      <th>3</th>\n",
       "      <td>Germany</td>\n",
       "      <td>38828995</td>\n",
       "      <td>5.51%</td>\n",
       "    </tr>\n",
       "    <tr>\n",
       "      <th>4</th>\n",
       "      <td>Brazil</td>\n",
       "      <td>38743918</td>\n",
       "      <td>5.50%</td>\n",
       "    </tr>\n",
       "  </tbody>\n",
       "</table>\n",
       "</div>"
      ],
      "text/plain": [
       "  nombre_pais  n_total_casos %_total_casos\n",
       "0         USA      111820082        15.88%\n",
       "1       India       45035393         6.39%\n",
       "2      France       40138560         5.70%\n",
       "3     Germany       38828995         5.51%\n",
       "4      Brazil       38743918         5.50%"
      ]
     },
     "execution_count": 33,
     "metadata": {},
     "output_type": "execute_result"
    }
   ],
   "source": [
    "df_paises_mayor_total_casos"
   ]
  },
  {
   "cell_type": "code",
   "execution_count": 34,
   "metadata": {},
   "outputs": [
    {
     "data": {
      "image/png": "[encoded data removed]",
      "text/plain": [
       "<Figure size 800x800 with 1 Axes>"
      ]
     },
     "metadata": {},
     "output_type": "display_data"
    }
   ],
   "source": [
    "plt.figure(figsize=(8,8))\n",
    "plt.pie(df_paises_mayor_total_casos['n_total_casos'], labels = df_paises_mayor_total_casos['nombre_pais'],autopct='%1.1f%%', startangle=140)\n",
    "plt.show()"
   ]
  },
  {
   "cell_type": "markdown",
   "metadata": {},
   "source": [
    "De acuerdo a la tabla de ranking y el pier chart los países son mayor tasa de de casos confirmados han sido: \n",
    "- USA: 111'820'082\n",
    "- India: 45'035'393\n",
    "- Francia: 40'138'560\n",
    "- Alemania: 38'828'995\n",
    "- Brasil: 38'743'918\n",
    "\n",
    "Siendo USA el que tiene una mayor tasa de caso confirmados, lo cual puede deberse por factores como los mútliples viajes internacionales lo cual pudo haber hecho que los contagios sean más rápido para darse."
   ]
  },
  {
   "cell_type": "markdown",
   "metadata": {},
   "source": [
    "### Menor cantidad de casos"
   ]
  },
  {
   "cell_type": "code",
   "execution_count": 35,
   "metadata": {},
   "outputs": [
    {
     "data": {
      "text/html": [
       "<div>\n",
       "<style scoped>\n",
       "    .dataframe tbody tr th:only-of-type {\n",
       "        vertical-align: middle;\n",
       "    }\n",
       "\n",
       "    .dataframe tbody tr th {\n",
       "        vertical-align: top;\n",
       "    }\n",
       "\n",
       "    .dataframe thead th {\n",
       "        text-align: right;\n",
       "    }\n",
       "</style>\n",
       "<table border=\"1\" class=\"dataframe\">\n",
       "  <thead>\n",
       "    <tr style=\"text-align: right;\">\n",
       "      <th></th>\n",
       "      <th>nombre_pais</th>\n",
       "      <th>n_total_casos</th>\n",
       "      <th>%_total_casos</th>\n",
       "    </tr>\n",
       "  </thead>\n",
       "  <tbody>\n",
       "    <tr>\n",
       "      <th>229</th>\n",
       "      <td>MS Zaandam</td>\n",
       "      <td>9</td>\n",
       "      <td>0.00%</td>\n",
       "    </tr>\n",
       "    <tr>\n",
       "      <th>228</th>\n",
       "      <td>Western Sahara</td>\n",
       "      <td>10</td>\n",
       "      <td>0.00%</td>\n",
       "    </tr>\n",
       "    <tr>\n",
       "      <th>227</th>\n",
       "      <td>Vatican City</td>\n",
       "      <td>29</td>\n",
       "      <td>0.00%</td>\n",
       "    </tr>\n",
       "    <tr>\n",
       "      <th>226</th>\n",
       "      <td>Tokelau</td>\n",
       "      <td>80</td>\n",
       "      <td>0.00%</td>\n",
       "    </tr>\n",
       "    <tr>\n",
       "      <th>225</th>\n",
       "      <td>Diamond Princess</td>\n",
       "      <td>712</td>\n",
       "      <td>0.00%</td>\n",
       "    </tr>\n",
       "  </tbody>\n",
       "</table>\n",
       "</div>"
      ],
      "text/plain": [
       "          nombre_pais  n_total_casos %_total_casos\n",
       "229        MS Zaandam              9         0.00%\n",
       "228    Western Sahara             10         0.00%\n",
       "227      Vatican City             29         0.00%\n",
       "226           Tokelau             80         0.00%\n",
       "225  Diamond Princess            712         0.00%"
      ]
     },
     "execution_count": 35,
     "metadata": {},
     "output_type": "execute_result"
    }
   ],
   "source": [
    "df_paises_menor_total_casos"
   ]
  },
  {
   "cell_type": "markdown",
   "metadata": {},
   "source": [
    "Por el lado del ranking de los países/locaciones con menor tasa de casos confirmados han sido:\n",
    "- MS Zaandam: 9\n",
    "- Sahara Occidental: 10\n",
    "- Ciudad del Vaticano: 29\n",
    "- Tokelau: 80\n",
    "- Diamong Princess: 712\n",
    "\n",
    "Esto podría deberse porque son países/locaciones muy pequeñas y con pocas cantidades de viajes internacionales lo cual puede que haya permitido que puedan realizar métodos de prevención para mantener una tasa de casos confirmados reducido"
   ]
  },
  {
   "cell_type": "markdown",
   "metadata": {},
   "source": [
    "### Mayor cantidad de muertes"
   ]
  },
  {
   "cell_type": "code",
   "execution_count": 36,
   "metadata": {},
   "outputs": [
    {
     "data": {
      "text/html": [
       "<div>\n",
       "<style scoped>\n",
       "    .dataframe tbody tr th:only-of-type {\n",
       "        vertical-align: middle;\n",
       "    }\n",
       "\n",
       "    .dataframe tbody tr th {\n",
       "        vertical-align: top;\n",
       "    }\n",
       "\n",
       "    .dataframe thead th {\n",
       "        text-align: right;\n",
       "    }\n",
       "</style>\n",
       "<table border=\"1\" class=\"dataframe\">\n",
       "  <thead>\n",
       "    <tr style=\"text-align: right;\">\n",
       "      <th></th>\n",
       "      <th>nombre_pais</th>\n",
       "      <th>n_total_muertes</th>\n",
       "      <th>%_total_casos</th>\n",
       "    </tr>\n",
       "  </thead>\n",
       "  <tbody>\n",
       "    <tr>\n",
       "      <th>0</th>\n",
       "      <td>USA</td>\n",
       "      <td>1219487</td>\n",
       "      <td>17.41%</td>\n",
       "    </tr>\n",
       "    <tr>\n",
       "      <th>4</th>\n",
       "      <td>Brazil</td>\n",
       "      <td>711380</td>\n",
       "      <td>10.15%</td>\n",
       "    </tr>\n",
       "    <tr>\n",
       "      <th>1</th>\n",
       "      <td>India</td>\n",
       "      <td>533570</td>\n",
       "      <td>7.62%</td>\n",
       "    </tr>\n",
       "    <tr>\n",
       "      <th>9</th>\n",
       "      <td>Russia</td>\n",
       "      <td>402756</td>\n",
       "      <td>5.75%</td>\n",
       "    </tr>\n",
       "    <tr>\n",
       "      <th>17</th>\n",
       "      <td>Mexico</td>\n",
       "      <td>334958</td>\n",
       "      <td>4.78%</td>\n",
       "    </tr>\n",
       "  </tbody>\n",
       "</table>\n",
       "</div>"
      ],
      "text/plain": [
       "   nombre_pais  n_total_muertes %_total_casos\n",
       "0          USA          1219487        17.41%\n",
       "4       Brazil           711380        10.15%\n",
       "1        India           533570         7.62%\n",
       "9       Russia           402756         5.75%\n",
       "17      Mexico           334958         4.78%"
      ]
     },
     "execution_count": 36,
     "metadata": {},
     "output_type": "execute_result"
    }
   ],
   "source": [
    "df_paises_mayor_muerte"
   ]
  },
  {
   "cell_type": "code",
   "execution_count": 37,
   "metadata": {},
   "outputs": [
    {
     "data": {
      "image/png": "[encoded data removed]",
      "text/plain": [
       "<Figure size 800x800 with 1 Axes>"
      ]
     },
     "metadata": {},
     "output_type": "display_data"
    }
   ],
   "source": [
    "plt.figure(figsize=(8,8))\n",
    "plt.pie(df_paises_mayor_muerte['n_total_muertes'], labels = df_paises_mayor_muerte['nombre_pais'],autopct='%1.1f%%', startangle=140)\n",
    "plt.show()"
   ]
  },
  {
   "cell_type": "markdown",
   "metadata": {},
   "source": [
    "### Menor cantidad de muertes"
   ]
  },
  {
   "cell_type": "code",
   "execution_count": 39,
   "metadata": {},
   "outputs": [
    {
     "data": {
      "text/html": [
       "<div>\n",
       "<style scoped>\n",
       "    .dataframe tbody tr th:only-of-type {\n",
       "        vertical-align: middle;\n",
       "    }\n",
       "\n",
       "    .dataframe tbody tr th {\n",
       "        vertical-align: top;\n",
       "    }\n",
       "\n",
       "    .dataframe thead th {\n",
       "        text-align: right;\n",
       "    }\n",
       "</style>\n",
       "<table border=\"1\" class=\"dataframe\">\n",
       "  <thead>\n",
       "    <tr style=\"text-align: right;\">\n",
       "      <th></th>\n",
       "      <th>nombre_pais</th>\n",
       "      <th>n_total_muertes</th>\n",
       "      <th>%_total_muerte</th>\n",
       "    </tr>\n",
       "  </thead>\n",
       "  <tbody>\n",
       "    <tr>\n",
       "      <th>227</th>\n",
       "      <td>Vatican City</td>\n",
       "      <td>0</td>\n",
       "      <td>0.00%</td>\n",
       "    </tr>\n",
       "    <tr>\n",
       "      <th>226</th>\n",
       "      <td>Tokelau</td>\n",
       "      <td>0</td>\n",
       "      <td>0.00%</td>\n",
       "    </tr>\n",
       "    <tr>\n",
       "      <th>224</th>\n",
       "      <td>Niue</td>\n",
       "      <td>0</td>\n",
       "      <td>0.00%</td>\n",
       "    </tr>\n",
       "    <tr>\n",
       "      <th>222</th>\n",
       "      <td>Falkland Islands</td>\n",
       "      <td>0</td>\n",
       "      <td>0.00%</td>\n",
       "    </tr>\n",
       "    <tr>\n",
       "      <th>221</th>\n",
       "      <td>Saint Helena</td>\n",
       "      <td>0</td>\n",
       "      <td>0.00%</td>\n",
       "    </tr>\n",
       "  </tbody>\n",
       "</table>\n",
       "</div>"
      ],
      "text/plain": [
       "          nombre_pais  n_total_muertes %_total_muerte\n",
       "227      Vatican City                0          0.00%\n",
       "226           Tokelau                0          0.00%\n",
       "224              Niue                0          0.00%\n",
       "222  Falkland Islands                0          0.00%\n",
       "221      Saint Helena                0          0.00%"
      ]
     },
     "execution_count": 39,
     "metadata": {},
     "output_type": "execute_result"
    }
   ],
   "source": [
    "df_paises_menor_muerte"
   ]
  },
  {
   "cell_type": "markdown",
   "metadata": {},
   "source": [
    "### Mayor cantidad de pruebas"
   ]
  },
  {
   "cell_type": "code",
   "execution_count": 40,
   "metadata": {},
   "outputs": [
    {
     "data": {
      "text/html": [
       "<div>\n",
       "<style scoped>\n",
       "    .dataframe tbody tr th:only-of-type {\n",
       "        vertical-align: middle;\n",
       "    }\n",
       "\n",
       "    .dataframe tbody tr th {\n",
       "        vertical-align: top;\n",
       "    }\n",
       "\n",
       "    .dataframe thead th {\n",
       "        text-align: right;\n",
       "    }\n",
       "</style>\n",
       "<table border=\"1\" class=\"dataframe\">\n",
       "  <thead>\n",
       "    <tr style=\"text-align: right;\">\n",
       "      <th></th>\n",
       "      <th>nombre_pais</th>\n",
       "      <th>n_total_pruebas</th>\n",
       "      <th>%_total_pruebas</th>\n",
       "    </tr>\n",
       "  </thead>\n",
       "  <tbody>\n",
       "    <tr>\n",
       "      <th>0</th>\n",
       "      <td>USA</td>\n",
       "      <td>1186851502</td>\n",
       "      <td>17.28%</td>\n",
       "    </tr>\n",
       "    <tr>\n",
       "      <th>1</th>\n",
       "      <td>India</td>\n",
       "      <td>935879495</td>\n",
       "      <td>13.63%</td>\n",
       "    </tr>\n",
       "    <tr>\n",
       "      <th>8</th>\n",
       "      <td>UK</td>\n",
       "      <td>522526476</td>\n",
       "      <td>7.61%</td>\n",
       "    </tr>\n",
       "    <tr>\n",
       "      <th>11</th>\n",
       "      <td>Spain</td>\n",
       "      <td>471036328</td>\n",
       "      <td>6.86%</td>\n",
       "    </tr>\n",
       "    <tr>\n",
       "      <th>7</th>\n",
       "      <td>Italy</td>\n",
       "      <td>281126449</td>\n",
       "      <td>4.09%</td>\n",
       "    </tr>\n",
       "  </tbody>\n",
       "</table>\n",
       "</div>"
      ],
      "text/plain": [
       "   nombre_pais  n_total_pruebas %_total_pruebas\n",
       "0          USA       1186851502          17.28%\n",
       "1        India        935879495          13.63%\n",
       "8           UK        522526476           7.61%\n",
       "11       Spain        471036328           6.86%\n",
       "7        Italy        281126449           4.09%"
      ]
     },
     "execution_count": 40,
     "metadata": {},
     "output_type": "execute_result"
    }
   ],
   "source": [
    "df_paises_mayor_pruebas"
   ]
  },
  {
   "cell_type": "code",
   "execution_count": 42,
   "metadata": {},
   "outputs": [
    {
     "data": {
      "image/png": "[encoded data removed]",
      "text/plain": [
       "<Figure size 800x800 with 1 Axes>"
      ]
     },
     "metadata": {},
     "output_type": "display_data"
    }
   ],
   "source": [
    "plt.figure(figsize=(8,8))\n",
    "plt.pie(df_paises_mayor_pruebas['n_total_pruebas'], labels = df_paises_mayor_pruebas['nombre_pais'],autopct='%1.1f%%', startangle=140)\n",
    "plt.show()"
   ]
  },
  {
   "cell_type": "markdown",
   "metadata": {},
   "source": [
    "En el ranking de países con mayor tasa de uso de pruebas de descarte de covid se encuentra en primer lugar USA, el cual tambien está en el top 1 para Mayor cantidad de contagios y mayor cantidad de muertes"
   ]
  },
  {
   "cell_type": "markdown",
   "metadata": {},
   "source": [
    "En conclusión, en los 3 rankings que he realizado sobre los aspectos de: mayor cantidad de contagios, mayor cantidad de muertes y mayor uso de pruebas. Se tiene que Estados Unidos encabeza los 3 tops, mientras que la India encabeza el 2do puesto para los aspectos de Cantidad de contagios y Cantidad de uso de pruebas. Esto puede deberse a como son países altamente comerciales, han estado más propensos a los contagios y por ende el uso necesario de las pruebas de descartes."
   ]
  },
  {
   "cell_type": "code",
   "execution_count": null,
   "metadata": {},
   "outputs": [],
   "source": []
  }
 ],
 "metadata": {
  "colab": {
   "provenance": []
  },
  "kernelspec": {
   "display_name": "Python 3 (ipykernel)",
   "language": "python",
   "name": "python3"
  },
  "language_info": {
   "codemirror_mode": {
    "name": "ipython",
    "version": 3
   },
   "file_extension": ".py",
   "mimetype": "text/x-python",
   "name": "python",
   "nbconvert_exporter": "python",
   "pygments_lexer": "ipython3",
   "version": "3.11.5"
  }
 },
 "nbformat": 4,
 "nbformat_minor": 1
}
