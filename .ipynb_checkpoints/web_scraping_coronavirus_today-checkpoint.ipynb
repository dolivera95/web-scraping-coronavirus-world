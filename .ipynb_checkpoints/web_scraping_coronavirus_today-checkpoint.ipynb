{
 "cells": [
  {
   "cell_type": "code",
   "execution_count": null,
   "metadata": {
    "id": "EQ83Vlc-i-Z_"
   },
   "outputs": [],
   "source": [
    "from bs4 import BeautifulSoup\n",
    "from requests import get\n",
    "import pandas as pd\n",
    "import matplotlib.pyplot as plt\n",
    "from wordcloud import WordCloud, STOPWORDS\n",
    "from datetime import date, timedelta"
   ]
  },
  {
   "cell_type": "code",
   "execution_count": null,
   "metadata": {
    "id": "udujwIXwjFe-"
   },
   "outputs": [],
   "source": [
    "## url = \"https://www.worldometers.info/world-population/population-by-country/\"\n",
    "url = \"https://www.worldometers.info/coronavirus/\"\n",
    "page = requests.get(url)"
   ]
  },
  {
   "cell_type": "code",
   "execution_count": null,
   "metadata": {
    "id": "PDTVKB6KlHU-"
   },
   "outputs": [],
   "source": [
    "soup = BeautifulSoup(page.content, 'html.parser')\n",
    "body_html = soup.body"
   ]
  },
  {
   "cell_type": "code",
   "execution_count": null,
   "metadata": {
    "id": "tVugz4kQmDFU"
   },
   "outputs": [],
   "source": [
    "table_html = body_html.find('table', class_='table table-bordered table-hover main_table_countries')\n",
    "list_tbody_html = table_html.find_all('tbody')\n",
    "list_tr_html = list_tbody_html[0].find_all('tr')\n",
    "# Eliminar los primeros TR que no son paises (son totales de continentes)\n",
    "list_tr_html = list_tr_html[8:]\n",
    "# Eliminar los ultimos valores que son sub totales\n",
    "list_tr_html = list_tr_html[:-1]"
   ]
  },
  {
   "cell_type": "code",
   "execution_count": null,
   "metadata": {
    "id": "mIAJvVawvdgn"
   },
   "outputs": [],
   "source": [
    "# Obtener el nombre del pais\n",
    "str_pais = list_tr_html[0].find_all('td')\n",
    "str_pais = str_pais[1].text"
   ]
  },
  {
   "cell_type": "code",
   "execution_count": null,
   "metadata": {
    "colab": {
     "base_uri": "https://localhost:8080/",
     "height": 35
    },
    "id": "DXX1Ex8eyAli",
    "outputId": "b349485b-ec56-4d89-8439-9e1a17a807ac"
   },
   "outputs": [
    {
     "data": {
      "application/vnd.google.colaboratory.intrinsic+json": {
       "type": "string"
      },
      "text/plain": [
       "'USA'"
      ]
     },
     "execution_count": 104,
     "metadata": {},
     "output_type": "execute_result"
    }
   ],
   "source": [
    "str_pais"
   ]
  },
  {
   "cell_type": "code",
   "execution_count": null,
   "metadata": {
    "id": "HfKBdo36yFfB"
   },
   "outputs": [],
   "source": [
    "# Obtener el nombre del pais\n",
    "str_pais = list_tr_html[229].find_all('td')\n",
    "str_pais = str_pais[1].text"
   ]
  },
  {
   "cell_type": "code",
   "execution_count": null,
   "metadata": {
    "colab": {
     "base_uri": "https://localhost:8080/",
     "height": 35
    },
    "id": "nXTSimR-yocS",
    "outputId": "678ecb3a-3030-41d3-f070-e314f07f0007"
   },
   "outputs": [
    {
     "data": {
      "application/vnd.google.colaboratory.intrinsic+json": {
       "type": "string"
      },
      "text/plain": [
       "'MS Zaandam'"
      ]
     },
     "execution_count": 100,
     "metadata": {},
     "output_type": "execute_result"
    }
   ],
   "source": [
    "str_pais"
   ]
  },
  {
   "cell_type": "code",
   "execution_count": null,
   "metadata": {
    "id": "Jwx8VAYY0qtI"
   },
   "outputs": [],
   "source": [
    "## Obtener valor Total Casos\n",
    "str_total_casos = list_tr_html[0].find_all('td')\n",
    "str_total_casos = str_total_casos[2]\n",
    "str_total_casos = str_total_casos.text"
   ]
  },
  {
   "cell_type": "code",
   "execution_count": null,
   "metadata": {
    "colab": {
     "base_uri": "https://localhost:8080/",
     "height": 35
    },
    "id": "J3SksU120zDH",
    "outputId": "648c11fa-905b-4a57-f993-f4defe273cac"
   },
   "outputs": [
    {
     "data": {
      "application/vnd.google.colaboratory.intrinsic+json": {
       "type": "string"
      },
      "text/plain": [
       "'111,820,082'"
      ]
     },
     "execution_count": 111,
     "metadata": {},
     "output_type": "execute_result"
    }
   ],
   "source": [
    "str_total_casos"
   ]
  },
  {
   "cell_type": "code",
   "execution_count": null,
   "metadata": {
    "id": "4owzq8BRzvWw"
   },
   "outputs": [],
   "source": [
    "# Obtener valor Nuevos Casos\n",
    "str_nuevos_casos = list_tr_html[0].find_all('td')\n",
    "str_nuevos_casos = str_nuevos_casos[3]\n",
    "str_nuevos_casos = str_nuevos_casos.text"
   ]
  },
  {
   "cell_type": "code",
   "execution_count": null,
   "metadata": {
    "colab": {
     "base_uri": "https://localhost:8080/",
     "height": 35
    },
    "id": "YW09taV41ZFV",
    "outputId": "9b46af69-2ef5-4e7d-9940-a29406933d2c"
   },
   "outputs": [
    {
     "data": {
      "application/vnd.google.colaboratory.intrinsic+json": {
       "type": "string"
      },
      "text/plain": [
       "''"
      ]
     },
     "execution_count": 113,
     "metadata": {},
     "output_type": "execute_result"
    }
   ],
   "source": [
    "str_nuevos_casos"
   ]
  },
  {
   "cell_type": "code",
   "execution_count": null,
   "metadata": {
    "id": "xOHGXkV6zxaq"
   },
   "outputs": [],
   "source": [
    "# Obtener valor Total Muertes\n",
    "str_total_muertes = list_tr_html[0].find_all('td')\n",
    "str_total_muertes = str_total_muertes[4]\n",
    "str_total_muertes = str_total_muertes.text"
   ]
  },
  {
   "cell_type": "code",
   "execution_count": null,
   "metadata": {
    "colab": {
     "base_uri": "https://localhost:8080/",
     "height": 35
    },
    "id": "4QXtSK6p1Z0v",
    "outputId": "053df9dc-ada4-4f53-f990-1c7a350853a4"
   },
   "outputs": [
    {
     "data": {
      "application/vnd.google.colaboratory.intrinsic+json": {
       "type": "string"
      },
      "text/plain": [
       "'1,219,487                                '"
      ]
     },
     "execution_count": 116,
     "metadata": {},
     "output_type": "execute_result"
    }
   ],
   "source": [
    "str_total_muertes"
   ]
  },
  {
   "cell_type": "code",
   "execution_count": null,
   "metadata": {
    "id": "i0LehURzzyWb"
   },
   "outputs": [],
   "source": [
    "# Obtener valor Nuevas Muertes\n",
    "str_nuevas_muertes = list_tr_html[0].find_all('td')\n",
    "str_nuevas_muertes = str_nuevas_muertes[5]\n",
    "str_nuevas_muertes = str_nuevas_muertes.text"
   ]
  },
  {
   "cell_type": "code",
   "execution_count": null,
   "metadata": {
    "colab": {
     "base_uri": "https://localhost:8080/",
     "height": 35
    },
    "id": "illVN7s41aRW",
    "outputId": "71ebf216-727a-4fc2-c9b6-ab9439f948b7"
   },
   "outputs": [
    {
     "data": {
      "application/vnd.google.colaboratory.intrinsic+json": {
       "type": "string"
      },
      "text/plain": [
       "''"
      ]
     },
     "execution_count": 118,
     "metadata": {},
     "output_type": "execute_result"
    }
   ],
   "source": [
    "str_nuevas_muertes"
   ]
  },
  {
   "cell_type": "code",
   "execution_count": null,
   "metadata": {
    "id": "mseLiZfmz0Yj"
   },
   "outputs": [],
   "source": [
    "# Obtener valor Total Recuperados\n",
    "str_total_recuperados = list_tr_html[0].find_all('td')\n",
    "str_total_recuperados = str_total_recuperados[6]\n",
    "str_total_recuperados = str_total_recuperados.text"
   ]
  },
  {
   "cell_type": "code",
   "execution_count": null,
   "metadata": {
    "colab": {
     "base_uri": "https://localhost:8080/",
     "height": 35
    },
    "id": "S-l6C3Ou1aql",
    "outputId": "a0dc4586-55ce-48fb-ca01-44ca808d25f5"
   },
   "outputs": [
    {
     "data": {
      "application/vnd.google.colaboratory.intrinsic+json": {
       "type": "string"
      },
      "text/plain": [
       "'109,814,428'"
      ]
     },
     "execution_count": 120,
     "metadata": {},
     "output_type": "execute_result"
    }
   ],
   "source": [
    "str_total_recuperados"
   ]
  },
  {
   "cell_type": "code",
   "execution_count": null,
   "metadata": {
    "id": "QgZc1jug2DEM"
   },
   "outputs": [],
   "source": [
    "# Obtener valor Nuevos Recuperados\n",
    "str_nuevos_recuperados = list_tr_html[0].find_all('td')\n",
    "str_nuevos_recuperados = str_nuevos_recuperados[7]\n",
    "str_nuevos_recuperados = str_nuevos_recuperados.text"
   ]
  },
  {
   "cell_type": "code",
   "execution_count": null,
   "metadata": {
    "colab": {
     "base_uri": "https://localhost:8080/",
     "height": 35
    },
    "id": "YO4QKBF12Dw2",
    "outputId": "13c42344-a2b7-44c0-c398-ac7941b55a73"
   },
   "outputs": [
    {
     "data": {
      "application/vnd.google.colaboratory.intrinsic+json": {
       "type": "string"
      },
      "text/plain": [
       "''"
      ]
     },
     "execution_count": 122,
     "metadata": {},
     "output_type": "execute_result"
    }
   ],
   "source": [
    "str_nuevos_recuperados"
   ]
  },
  {
   "cell_type": "code",
   "execution_count": null,
   "metadata": {
    "id": "ILh1KY6sz2ql"
   },
   "outputs": [],
   "source": [
    "# Obtener valor Casos Activos\n",
    "str_casos_activos = list_tr_html[0].find_all('td')\n",
    "str_casos_activos = str_casos_activos[8]\n",
    "str_casos_activos = str_casos_activos.text"
   ]
  },
  {
   "cell_type": "code",
   "execution_count": null,
   "metadata": {
    "colab": {
     "base_uri": "https://localhost:8080/",
     "height": 35
    },
    "id": "Vfk1lgUv1bDl",
    "outputId": "de9f5f64-921d-4d01-9fca-5a69461c2af4"
   },
   "outputs": [
    {
     "data": {
      "application/vnd.google.colaboratory.intrinsic+json": {
       "type": "string"
      },
      "text/plain": [
       "'786,167'"
      ]
     },
     "execution_count": 124,
     "metadata": {},
     "output_type": "execute_result"
    }
   ],
   "source": [
    "str_casos_activos"
   ]
  },
  {
   "cell_type": "code",
   "execution_count": null,
   "metadata": {
    "id": "8wJhJexhz4Nr"
   },
   "outputs": [],
   "source": [
    "# Obtener valor Casos Críticos\n",
    "str_casos_criticos = list_tr_html[0].find_all('td')\n",
    "str_casos_criticos = str_casos_criticos[9]\n",
    "str_casos_criticos = str_casos_criticos.text"
   ]
  },
  {
   "cell_type": "code",
   "execution_count": null,
   "metadata": {
    "colab": {
     "base_uri": "https://localhost:8080/",
     "height": 35
    },
    "id": "vzC-uq3H1bfw",
    "outputId": "eb0491da-05f9-4920-e82f-37bd12f3ee3a"
   },
   "outputs": [
    {
     "data": {
      "application/vnd.google.colaboratory.intrinsic+json": {
       "type": "string"
      },
      "text/plain": [
       "'940'"
      ]
     },
     "execution_count": 126,
     "metadata": {},
     "output_type": "execute_result"
    }
   ],
   "source": [
    "str_casos_criticos"
   ]
  },
  {
   "cell_type": "code",
   "execution_count": null,
   "metadata": {
    "id": "xvL52ll9z67F"
   },
   "outputs": [],
   "source": [
    "# Obtener valor Total Casos por cada 1M Poblacion\n",
    "str_total_casos_por_cada_1m_poblacion = list_tr_html[0].find_all('td')\n",
    "str_total_casos_por_cada_1m_poblacion = str_total_casos_por_cada_1m_poblacion[10]\n",
    "str_total_casos_por_cada_1m_poblacion = str_total_casos_por_cada_1m_poblacion.text"
   ]
  },
  {
   "cell_type": "code",
   "execution_count": null,
   "metadata": {
    "colab": {
     "base_uri": "https://localhost:8080/",
     "height": 35
    },
    "id": "QnqHNd_e1b8j",
    "outputId": "c0adfd92-f51f-4c94-beb8-cd91eb78829d"
   },
   "outputs": [
    {
     "data": {
      "application/vnd.google.colaboratory.intrinsic+json": {
       "type": "string"
      },
      "text/plain": [
       "'333,985'"
      ]
     },
     "execution_count": 128,
     "metadata": {},
     "output_type": "execute_result"
    }
   ],
   "source": [
    "str_total_casos_por_cada_1m_poblacion"
   ]
  },
  {
   "cell_type": "code",
   "execution_count": null,
   "metadata": {
    "id": "9CKiPb17z9er"
   },
   "outputs": [],
   "source": [
    "# Obtener valor Muertes por cada 1M poblacion\n",
    "str_total_muertes_por_cada_1m_poblacion = list_tr_html[0].find_all('td')\n",
    "str_total_muertes_por_cada_1m_poblacion = str_total_muertes_por_cada_1m_poblacion[11]\n",
    "str_total_muertes_por_cada_1m_poblacion = str_total_muertes_por_cada_1m_poblacion.text"
   ]
  },
  {
   "cell_type": "code",
   "execution_count": null,
   "metadata": {
    "colab": {
     "base_uri": "https://localhost:8080/",
     "height": 35
    },
    "id": "Q71Hbd831cUf",
    "outputId": "307d1946-db03-42df-d9ad-c034e2384251"
   },
   "outputs": [
    {
     "data": {
      "application/vnd.google.colaboratory.intrinsic+json": {
       "type": "string"
      },
      "text/plain": [
       "'3,642'"
      ]
     },
     "execution_count": 130,
     "metadata": {},
     "output_type": "execute_result"
    }
   ],
   "source": [
    "str_total_muertes_por_cada_1m_poblacion"
   ]
  },
  {
   "cell_type": "code",
   "execution_count": null,
   "metadata": {
    "id": "-PlMYbJAz_wY"
   },
   "outputs": [],
   "source": [
    "# Obtener valor Total Pruebas\n",
    "str_total_pruebas = list_tr_html[0].find_all('td')\n",
    "str_total_pruebas = str_total_pruebas[12]\n",
    "str_total_pruebas = str_total_pruebas.text"
   ]
  },
  {
   "cell_type": "code",
   "execution_count": null,
   "metadata": {
    "colab": {
     "base_uri": "https://localhost:8080/",
     "height": 35
    },
    "id": "FXOO_IPI1c3d",
    "outputId": "a1302026-4b18-415b-e847-7473ed1aca8d"
   },
   "outputs": [
    {
     "data": {
      "application/vnd.google.colaboratory.intrinsic+json": {
       "type": "string"
      },
      "text/plain": [
       "'1,186,851,502'"
      ]
     },
     "execution_count": 132,
     "metadata": {},
     "output_type": "execute_result"
    }
   ],
   "source": [
    "str_total_pruebas"
   ]
  },
  {
   "cell_type": "code",
   "execution_count": null,
   "metadata": {
    "id": "InYHYv5w0BCe"
   },
   "outputs": [],
   "source": [
    "# Obtener valor Total Pruebas por 1M Poblacion\n",
    "str_total_pruebas_por_cada_1m_poblacion = list_tr_html[0].find_all('td')\n",
    "str_total_pruebas_por_cada_1m_poblacion = str_total_pruebas_por_cada_1m_poblacion[13]\n",
    "str_total_pruebas_por_cada_1m_poblacion = str_total_pruebas_por_cada_1m_poblacion.text"
   ]
  },
  {
   "cell_type": "code",
   "execution_count": null,
   "metadata": {
    "colab": {
     "base_uri": "https://localhost:8080/",
     "height": 35
    },
    "id": "UMpcJ45z1dUZ",
    "outputId": "765e181b-c64e-4e1f-8fa5-0d2219b3ccae"
   },
   "outputs": [
    {
     "data": {
      "application/vnd.google.colaboratory.intrinsic+json": {
       "type": "string"
      },
      "text/plain": [
       "'3,544,901'"
      ]
     },
     "execution_count": 134,
     "metadata": {},
     "output_type": "execute_result"
    }
   ],
   "source": [
    "str_total_pruebas_por_cada_1m_poblacion"
   ]
  },
  {
   "cell_type": "code",
   "execution_count": null,
   "metadata": {
    "id": "QObxELMI0DJe"
   },
   "outputs": [],
   "source": [
    "# Obtener valor Poblacion\n",
    "str_total_poblacion = list_tr_html[0].find_all('td')\n",
    "str_total_poblacion = str_total_poblacion[14]\n",
    "str_total_poblacion = str_total_poblacion.text"
   ]
  },
  {
   "cell_type": "code",
   "execution_count": null,
   "metadata": {
    "colab": {
     "base_uri": "https://localhost:8080/",
     "height": 35
    },
    "id": "OHQijnr_1duZ",
    "outputId": "ce88367f-3043-432b-c1d4-890c2854de55"
   },
   "outputs": [
    {
     "data": {
      "application/vnd.google.colaboratory.intrinsic+json": {
       "type": "string"
      },
      "text/plain": [
       "'334,805,269 '"
      ]
     },
     "execution_count": 136,
     "metadata": {},
     "output_type": "execute_result"
    }
   ],
   "source": [
    "str_total_poblacion"
   ]
  },
  {
   "cell_type": "code",
   "execution_count": null,
   "metadata": {
    "id": "KivA1WP20EUt"
   },
   "outputs": [],
   "source": [
    "# TODO1: Realizar la funcion para extraer al menos del primer pais de la lista\n",
    "# TODO2: Realizar el mismo procedimiento pero dentro de una iteracion de la lista"
   ]
  }
 ],
 "metadata": {
  "colab": {
   "provenance": []
  },
  "kernelspec": {
   "display_name": "Python 3 (ipykernel)",
   "language": "python",
   "name": "python3"
  },
  "language_info": {
   "codemirror_mode": {
    "name": "ipython",
    "version": 3
   },
   "file_extension": ".py",
   "mimetype": "text/x-python",
   "name": "python",
   "nbconvert_exporter": "python",
   "pygments_lexer": "ipython3",
   "version": "3.11.5"
  }
 },
 "nbformat": 4,
 "nbformat_minor": 1
}
